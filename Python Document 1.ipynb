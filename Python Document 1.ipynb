{
 "cells": [
  {
   "cell_type": "markdown",
   "metadata": {},
   "source": [
    "# Week 2 - Monday Lesson (variable assignment, loops, lists)"
   ]
  },
  {
   "cell_type": "markdown",
   "metadata": {},
   "source": [
    "## Tasks Today:\n",
    "\n",
    "1) Int & Float assignments <br>\n",
    " &nbsp;&nbsp;&nbsp;&nbsp; a) Assigning int <br>\n",
    " &nbsp;&nbsp;&nbsp;&nbsp; b) Assigning float <br>\n",
    " &nbsp;&nbsp;&nbsp;&nbsp; c) Performing Calculations on ints and floats <br>\n",
    " &nbsp;&nbsp;&nbsp;&nbsp;&nbsp;&nbsp;&nbsp;&nbsp; - Addition <br>\n",
    " &nbsp;&nbsp;&nbsp;&nbsp;&nbsp;&nbsp;&nbsp;&nbsp; - Subtraction <br>\n",
    " &nbsp;&nbsp;&nbsp;&nbsp;&nbsp;&nbsp;&nbsp;&nbsp; - Multiplication <br>\n",
    " &nbsp;&nbsp;&nbsp;&nbsp;&nbsp;&nbsp;&nbsp;&nbsp; - Division <br>\n",
    " &nbsp;&nbsp;&nbsp;&nbsp;&nbsp;&nbsp;&nbsp;&nbsp; - Floor Division <br>\n",
    " &nbsp;&nbsp;&nbsp;&nbsp;&nbsp;&nbsp;&nbsp;&nbsp; - Modulo <br>\n",
    " &nbsp;&nbsp;&nbsp;&nbsp;&nbsp;&nbsp;&nbsp;&nbsp; - Exponential <br>\n",
    "2) String Input-Output <br>\n",
    " &nbsp;&nbsp;&nbsp;&nbsp; a) String Assignment <br>\n",
    " &nbsp;&nbsp;&nbsp;&nbsp; b) print() <br>\n",
    " &nbsp;&nbsp;&nbsp;&nbsp; c) String Concatenation <br>\n",
    " &nbsp;&nbsp;&nbsp;&nbsp; d) Type Conversion <br>\n",
    " &nbsp;&nbsp;&nbsp;&nbsp; e) input() <br>\n",
    " &nbsp;&nbsp;&nbsp;&nbsp; f) format() <br>\n",
    " &nbsp;&nbsp;&nbsp;&nbsp; g) Old Way (python 2) <br>\n",
    "3) <b>In-Class Exercise #1</b> <br>\n",
    "4) If Statements <br>\n",
    " &nbsp;&nbsp;&nbsp;&nbsp; a) 'is' keyword <br>\n",
    " &nbsp;&nbsp;&nbsp;&nbsp; b) 'in' keyword <br>\n",
    " &nbsp;&nbsp;&nbsp;&nbsp; c) 'not in' keyword <br>\n",
    "5) <b>In-Class Exercise #2</b> <br>\n",
    "6) Elif Statements <br>\n",
    "7) Else Statements <br>\n",
    "8) <b>In-Class Exercise #3</b> <br>\n",
    "9) For Loops <br>\n",
    " &nbsp;&nbsp;&nbsp;&nbsp; a) Using 'in' keyword <br>\n",
    " &nbsp;&nbsp;&nbsp;&nbsp; b) Continue Statement <br>\n",
    " &nbsp;&nbsp;&nbsp;&nbsp; c) Break Statement <br>\n",
    " &nbsp;&nbsp;&nbsp;&nbsp; d) Pass Statement <br>\n",
    " &nbsp;&nbsp;&nbsp;&nbsp; e) Double For Loops <br>\n",
    "10) While Loops <br>\n",
    " &nbsp;&nbsp;&nbsp;&nbsp; a) Looping 'While True' <br>\n",
    " &nbsp;&nbsp;&nbsp;&nbsp; b) While and For Loops Used Together <br>\n",
    "11) Built-In Functions <br>\n",
    " &nbsp;&nbsp;&nbsp;&nbsp; a) range() <br>\n",
    " &nbsp;&nbsp;&nbsp;&nbsp; b) len() <br>\n",
    " &nbsp;&nbsp;&nbsp;&nbsp; c) help() <br>\n",
    " &nbsp;&nbsp;&nbsp;&nbsp; d) isinstance() <br>\n",
    " &nbsp;&nbsp;&nbsp;&nbsp; e) abs() <br>\n",
    "12) Try and Except <br>\n",
    "13) Lists <br>\n",
    " &nbsp;&nbsp;&nbsp;&nbsp; a) Declaring Lists <br>\n",
    " &nbsp;&nbsp;&nbsp;&nbsp; b) Indexing a List <br>\n",
    " &nbsp;&nbsp;&nbsp;&nbsp; c) .append() <br>\n",
    " &nbsp;&nbsp;&nbsp;&nbsp; d) .insert() <br>\n",
    " &nbsp;&nbsp;&nbsp;&nbsp; e) .pop() <br>\n",
    " &nbsp;&nbsp;&nbsp;&nbsp; f) .remove() <br>\n",
    " &nbsp;&nbsp;&nbsp;&nbsp; g) del() <br>\n",
    " &nbsp;&nbsp;&nbsp;&nbsp; h) Concatenating Two Lists <br>\n",
    " &nbsp;&nbsp;&nbsp;&nbsp; i) Lists Within Lists <br>\n",
    " &nbsp;&nbsp;&nbsp;&nbsp; j) Looping Through Lists <br>"
   ]
  },
  {
   "cell_type": "markdown",
   "metadata": {},
   "source": [
    "### Int & Float Assignments"
   ]
  },
  {
   "cell_type": "markdown",
   "metadata": {},
   "source": [
    "##### Assigning int"
   ]
  },
  {
   "cell_type": "code",
   "execution_count": 1,
   "metadata": {},
   "outputs": [
    {
     "name": "stdout",
     "output_type": "stream",
     "text": [
      "6\n"
     ]
    }
   ],
   "source": [
    "number = 6\n",
    "\n",
    "print(number)"
   ]
  },
  {
   "cell_type": "markdown",
   "metadata": {},
   "source": [
    "##### Assinging float"
   ]
  },
  {
   "cell_type": "code",
   "execution_count": 3,
   "metadata": {},
   "outputs": [
    {
     "name": "stdout",
     "output_type": "stream",
     "text": [
      "2.3\n",
      "7.2\n"
     ]
    }
   ],
   "source": [
    "numberFloat = 2.3\n",
    "print(numberFloat)\n",
    "numberFloat = 7.2\n",
    "print(numberFloat)"
   ]
  },
  {
   "cell_type": "markdown",
   "metadata": {},
   "source": [
    "#### Performing Calculations on ints and floats"
   ]
  },
  {
   "cell_type": "markdown",
   "metadata": {},
   "source": [
    "##### Addition"
   ]
  },
  {
   "cell_type": "code",
   "execution_count": 6,
   "metadata": {},
   "outputs": [
    {
     "name": "stdout",
     "output_type": "stream",
     "text": [
      "7.4\n",
      "9.4\n"
     ]
    }
   ],
   "source": [
    "num1 = 2\n",
    "num2 = 5.4\n",
    "\n",
    "result = num1 + num2\n",
    "\n",
    "print(result)\n",
    "\n",
    "result += 2\n",
    "# += allows us to not have to have another variable (see more below)\n",
    "print(result)\n",
    "\n",
    "# this is same thing as above without += being used\n",
    "new_result = result + 2\n",
    "print(new_result)\n",
    "\n",
    "# Third way to do same thing:\n",
    "print(result +2)"
   ]
  },
  {
   "cell_type": "markdown",
   "metadata": {},
   "source": [
    "##### Subtraction"
   ]
  },
  {
   "cell_type": "code",
   "execution_count": 9,
   "metadata": {},
   "outputs": [
    {
     "name": "stdout",
     "output_type": "stream",
     "text": [
      "3.4000000000000004\n"
     ]
    }
   ],
   "source": [
    "result_diff = num2 - num1\n",
    "\n",
    "print(result_diff)\n",
    "# This produces 3.4000000004 (just a weird thing computers do when subtracting floats. This is 3.4)\n",
    "\n",
    "# Can use same options as addition above\n",
    "result_diff -= 1\n",
    "print(result_diff)"
   ]
  },
  {
   "cell_type": "markdown",
   "metadata": {},
   "source": [
    "##### Multiplication"
   ]
  },
  {
   "cell_type": "code",
   "execution_count": 10,
   "metadata": {},
   "outputs": [
    {
     "name": "stdout",
     "output_type": "stream",
     "text": [
      "10.8\n"
     ]
    }
   ],
   "source": [
    "result_mul = num1 * num2\n",
    "print(result_mul)\n",
    "\n",
    "result_mul *= 2\n",
    "print(result_mul)"
   ]
  },
  {
   "cell_type": "markdown",
   "metadata": {},
   "source": [
    "##### Division"
   ]
  },
  {
   "cell_type": "code",
   "execution_count": 13,
   "metadata": {},
   "outputs": [
    {
     "name": "stdout",
     "output_type": "stream",
     "text": [
      "2.7\n",
      "0.9\n"
     ]
    }
   ],
   "source": [
    "result_div = num2 / num1\n",
    "print(result_div)\n",
    "\n",
    "result_div /= 3\n",
    "print(result_div)"
   ]
  },
  {
   "cell_type": "markdown",
   "metadata": {},
   "source": [
    "##### Floor Division"
   ]
  },
  {
   "cell_type": "code",
   "execution_count": 14,
   "metadata": {},
   "outputs": [
    {
     "name": "stdout",
     "output_type": "stream",
     "text": [
      "2.0\n"
     ]
    }
   ],
   "source": [
    "# This will return whatever number rounded down to whole. *Result is 2.7 but rounds down to 2.0*\n",
    "result_floor = num2 // num1\n",
    "print(result_floor)\n",
    "\n",
    "result_floor //= 2\n",
    "print(result_floor)"
   ]
  },
  {
   "cell_type": "markdown",
   "metadata": {},
   "source": [
    "##### Modulo"
   ]
  },
  {
   "cell_type": "code",
   "execution_count": 16,
   "metadata": {},
   "outputs": [
    {
     "name": "stdout",
     "output_type": "stream",
     "text": [
      "1.4000000000000004\n",
      "1.4000000000000004\n"
     ]
    }
   ],
   "source": [
    "result_mod = num2 % num1\n",
    "print(result_mod)\n",
    "\n",
    "result_mod %= 2\n",
    "print(result_mod)"
   ]
  },
  {
   "cell_type": "markdown",
   "metadata": {},
   "source": [
    "##### Exponential"
   ]
  },
  {
   "cell_type": "code",
   "execution_count": 17,
   "metadata": {},
   "outputs": [
    {
     "name": "stdout",
     "output_type": "stream",
     "text": [
      "25\n",
      "625\n"
     ]
    }
   ],
   "source": [
    "square = 5 **2\n",
    "print(square)\n",
    "\n",
    "square **= 2\n",
    "print(square)"
   ]
  },
  {
   "cell_type": "markdown",
   "metadata": {},
   "source": [
    "### String Input-Output"
   ]
  },
  {
   "cell_type": "markdown",
   "metadata": {},
   "source": [
    "##### String Assignment"
   ]
  },
  {
   "cell_type": "code",
   "execution_count": 20,
   "metadata": {},
   "outputs": [
    {
     "name": "stdout",
     "output_type": "stream",
     "text": [
      "Alex\n"
     ]
    }
   ],
   "source": [
    "name = \"Alex\"\n",
    "print(name)"
   ]
  },
  {
   "cell_type": "markdown",
   "metadata": {},
   "source": [
    "##### print() <br>\n",
    "<p>Don't forget about end=' '</p>"
   ]
  },
  {
   "cell_type": "code",
   "execution_count": 23,
   "metadata": {},
   "outputs": [
    {
     "name": "stdout",
     "output_type": "stream",
     "text": [
      "This is my first name: Alex\n",
      "Full name: Alex Merkel"
     ]
    }
   ],
   "source": [
    "print(\"This is my first name:\", name)\n",
    "\n",
    "# Likely won't need \"end=\" much, but it adds whatever to end of your code:\n",
    "print(\"Full name:\", name, end=\" Merkel\")"
   ]
  },
  {
   "cell_type": "markdown",
   "metadata": {},
   "source": [
    "##### String Concatenation"
   ]
  },
  {
   "cell_type": "code",
   "execution_count": 27,
   "metadata": {},
   "outputs": [
    {
     "name": "stdout",
     "output_type": "stream",
     "text": [
      "John Smith\n",
      "John Smith, Jr\n"
     ]
    }
   ],
   "source": [
    "# *Be consistent with \"first_word_next_word\" format to label in Python*\n",
    "# first_name_is_a_long_string_of_words = \"John\"\n",
    "# This is not what we want to do in Python. The \"FirstLetterInEachWord\" format of \"Word\" is used in Javascript, etc. \n",
    "# FirstNameIsALongStringOfWords\n",
    "\n",
    "first_name = \"John\"\n",
    "last_name = \"Smith\"\n",
    "\n",
    "full_name = first_name + \" \" + last_name\n",
    "print(full_name)\n",
    "\n",
    "# Shorthand version:\n",
    "full_name += \", Jr\"\n",
    "print(full_name)"
   ]
  },
  {
   "cell_type": "markdown",
   "metadata": {},
   "source": [
    "##### Type Conversion"
   ]
  },
  {
   "cell_type": "code",
   "execution_count": 31,
   "metadata": {},
   "outputs": [
    {
     "name": "stdout",
     "output_type": "stream",
     "text": [
      "32\n",
      "<class 'type'>\n",
      "33\n",
      "<class 'type'>\n"
     ]
    }
   ],
   "source": [
    "# Important to keep data types seperate as we go, otherwise things class (strings vs. integer, etc.)\n",
    "number = \"32\"\n",
    "\n",
    "# This changes string of 32 to int of 32. Has to be number in the string for this to work (ex. can't make \"potato\" into an int)\n",
    "change_type_num = int(number)\n",
    "# This is still string, can't add the int 1 to it for example:\n",
    "print(number)\n",
    "# This has changed to int and can add other ints to it, etc.:\n",
    "print(change_type_num + 1)"
   ]
  },
  {
   "cell_type": "markdown",
   "metadata": {},
   "source": [
    "##### input()"
   ]
  },
  {
   "cell_type": "code",
   "execution_count": 35,
   "metadata": {},
   "outputs": [
    {
     "name": "stdout",
     "output_type": "stream",
     "text": [
      "What is your name? Alex\n",
      "Nice to meet you, Alex\n",
      "What is your age? 10\n",
      "15\n"
     ]
    }
   ],
   "source": [
    "# ***Input ALWAYS returns a string***\n",
    "\n",
    "name = input(\"What is your name? \")\n",
    "print(\"Nice to meet you, \" + name)\n",
    "\n",
    "# This won't work because it's trying to add 5 to a user input (INPUT ALWAYS RETURNS A STRING)\n",
    "# age = input(\"What is your age? \")\n",
    "# add_age = age + 5\n",
    "# print(add_age)\n",
    "\n",
    "# The fix for the above issue of adding input string to an int:\n",
    "# *Something to be careful of here, if they answer with a string \"Alex\" for example, will get error because \"Alex\" can't be an int\n",
    "age = int(input(\"What is your age? \"))\n",
    "add_age = age + 5\n",
    "print(add_age)"
   ]
  },
  {
   "cell_type": "markdown",
   "metadata": {},
   "source": [
    "##### format()"
   ]
  },
  {
   "cell_type": "code",
   "execution_count": 38,
   "metadata": {},
   "outputs": [
    {
     "name": "stdout",
     "output_type": "stream",
     "text": [
      "What is your age? 12\n",
      "You are 12 Alex getting wiser!\n",
      "12 is a great time in life!!\n"
     ]
    }
   ],
   "source": [
    "age = input(\"What is your age? \")\n",
    "\n",
    "# **This is allowing you to format things and add them in middle of strings, etc.:**\n",
    "result_string = \"You are {} {} getting wiser!\".format(age, name)\n",
    "print(result_string)\n",
    "\n",
    "# This is shorthand where you can see exactly where \"age\" is going\n",
    "result_again = f\"{age} is a great time in life!!\"\n",
    "print(result_again)\n"
   ]
  },
  {
   "cell_type": "markdown",
   "metadata": {},
   "source": [
    "##### Old Way (python 2)"
   ]
  },
  {
   "cell_type": "code",
   "execution_count": 39,
   "metadata": {},
   "outputs": [
    {
     "name": "stdout",
     "output_type": "stream",
     "text": [
      "You are 12 and you look great for your age!\n"
     ]
    }
   ],
   "source": [
    "# This is same for format above but in Python 2: **Hardly ever to see/need Python 2**\n",
    "result_string2 = \"You are %s and you look great for your age!\" %age\n",
    "print(result_string2)"
   ]
  },
  {
   "cell_type": "markdown",
   "metadata": {},
   "source": [
    "# In-Class Exercise 1 <br>\n",
    "<p>Create a format statement that asks for color, year, make, model and prints out the results</p>"
   ]
  },
  {
   "cell_type": "code",
   "execution_count": 44,
   "metadata": {},
   "outputs": [
    {
     "name": "stdout",
     "output_type": "stream",
     "text": [
      "What is the color of your car? Blue\n",
      "What is the year of your car? 2010\n",
      "What is the make of your car? Subaru\n",
      "What is the model of your car? WRX\n",
      "You have a 2010 Subaru WRX that is Blue\n"
     ]
    }
   ],
   "source": [
    "color = input(\"What is the color of your car? \")\n",
    "year = input(\"What is the year of your car? \")\n",
    "make = input(\"What is the make of your car? \")\n",
    "model = input(\"What is the model of your car? \")\n",
    "\n",
    "print(f'You have a {year} {make} {model} that is {color}')"
   ]
  },
  {
   "cell_type": "markdown",
   "metadata": {},
   "source": [
    "### If Statements"
   ]
  },
  {
   "cell_type": "code",
   "execution_count": 55,
   "metadata": {},
   "outputs": [
    {
     "name": "stdout",
     "output_type": "stream",
     "text": [
      "Equal Values\n"
     ]
    }
   ],
   "source": [
    "# Available operators: Greater(>), Less(<),Equal(==)\n",
    "# Greater or Equal(>=), Less or Equal (<=)\n",
    "\n",
    "# Truth Tree (&& = \"and\"  // = \"or\"):\n",
    "# T && F = F  *If both true and false, will equal False*\n",
    "# T && T = T  *If both true and true, will equal True*\n",
    "# T || F = T  *If true OR false, will equal True*\n",
    "# F || T = T  *If false OR true, will equal True*\n",
    "# F || F = F  *If false or false, will equal False*\n",
    "\n",
    "# num1 = 6\n",
    "# num2 = 5\n",
    "\n",
    "# *This is basically asking if the variable num1 is both 5 AND is an integer (not string, etc), then do...\n",
    "# if num1 == num2:\n",
    "#     print(\"Equal Values!\")\n",
    "# else:\n",
    "#     print(\"Not Equal!\")\n",
    "    \n",
    "# if num2 > num1:\n",
    "#     print(\"Num2 is greater\")\n",
    "# elif num1 > num2:\n",
    "#     print(\"Num1 is greater\")\n",
    "# else:\n",
    "#     print(\"Equal Values\")\n",
    "\n",
    "# *Example of T && F = F:\n",
    "num1 = 5\n",
    "num2 = 10\n",
    "num3 = 0\n",
    "\n",
    "if num2 > num1 and num3 >0:\n",
    "    print(\"Num2 is greater\")\n",
    "elif num1 > num2:\n",
    "    print(\"Num1 is greater\")\n",
    "else:\n",
    "    print(\"Equal Values\")\n",
    "#     Get \"Equal Values\" as answer\n",
    "    "
   ]
  },
  {
   "cell_type": "markdown",
   "metadata": {},
   "source": [
    "##### 'is' keyword"
   ]
  },
  {
   "cell_type": "code",
   "execution_count": 58,
   "metadata": {
    "scrolled": true
   },
   "outputs": [
    {
     "name": "stdout",
     "output_type": "stream",
     "text": [
      "This is the exact number/object\n"
     ]
    },
    {
     "name": "stderr",
     "output_type": "stream",
     "text": [
      "<>:5: SyntaxWarning: \"is\" with a literal. Did you mean \"==\"?\n",
      "<>:5: SyntaxWarning: \"is\" with a literal. Did you mean \"==\"?\n",
      "C:\\Users\\kajen\\AppData\\Local\\Temp\\ipykernel_14304\\1723926723.py:5: SyntaxWarning: \"is\" with a literal. Did you mean \"==\"?\n",
      "  if num3 is 55:\n"
     ]
    }
   ],
   "source": [
    "# The \"is\" keyword is for checking for the same object, but not the same value\n",
    "# NOT very good to use for most part. Do research to make sure you understand exactly how it works before using it\n",
    "\n",
    "num3 = 55\n",
    "\n",
    "if num3 is 55:\n",
    "    print(\"This is the exact number/object\")"
   ]
  },
  {
   "cell_type": "markdown",
   "metadata": {},
   "source": [
    "##### 'in' keyword"
   ]
  },
  {
   "cell_type": "code",
   "execution_count": 60,
   "metadata": {},
   "outputs": [
    {
     "name": "stdout",
     "output_type": "stream",
     "text": [
      "The ring bearer\n"
     ]
    }
   ],
   "source": [
    "# Check if a character is in a string\n",
    "\n",
    "char_name = \"Frodo Baggins\"\n",
    "\n",
    "# This runs:\n",
    "if \"Frodo\" in char_name:\n",
    "    print(\"The ring bearer\")\n",
    "    \n",
    "# This doesn't run:\n",
    "if \"Samwise\" in char_name:\n",
    "    print(\"The ring bearer\")"
   ]
  },
  {
   "cell_type": "markdown",
   "metadata": {},
   "source": [
    "##### 'not in' keyword'"
   ]
  },
  {
   "cell_type": "code",
   "execution_count": 61,
   "metadata": {},
   "outputs": [
    {
     "name": "stdout",
     "output_type": "stream",
     "text": [
      "a is NOT here...\n"
     ]
    }
   ],
   "source": [
    "sega_char = \"Sonic\"\n",
    "\n",
    "if \"a\" not in sega_char:\n",
    "    print(\"a is NOT here...\")"
   ]
  },
  {
   "cell_type": "markdown",
   "metadata": {},
   "source": [
    "# In-Class Exercise 2 <br>\n",
    "<p>Ask user for input, check to see if the letter 'p' is in the input</p>"
   ]
  },
  {
   "cell_type": "code",
   "execution_count": 70,
   "metadata": {},
   "outputs": [
    {
     "name": "stdout",
     "output_type": "stream",
     "text": [
      "What is your name? George\n",
      "Your name doesn't have the letter 'p' in it.\n"
     ]
    }
   ],
   "source": [
    "answer = input(\"What is your name? \")\n",
    "\n",
    "if \"p\" not in answer.lower(): \n",
    "    print(\"Your name doesn't have the letter 'p' in it.\")\n",
    "else:\n",
    "    print(\"Your name DOES have the letter 'p' in it!\")"
   ]
  },
  {
   "cell_type": "markdown",
   "metadata": {},
   "source": [
    "## Using 'and'/'or' with If Statements"
   ]
  },
  {
   "cell_type": "code",
   "execution_count": 72,
   "metadata": {},
   "outputs": [
    {
     "name": "stdout",
     "output_type": "stream",
     "text": [
      "True and True\n",
      "True and False\n"
     ]
    }
   ],
   "source": [
    "num_11 = 15\n",
    "num_12 = 3\n",
    "num_13 = 10\n",
    "num_14 = 3\n",
    "\n",
    "# f with \"and\" statement:\n",
    "if num_11 / 5 == num_12 and num_13 - 7 == num_14:\n",
    "    print(\"True and True\")\n",
    "    \n",
    "# If with \"or\" statement (if we used \"and\" instead of \"or\" here, it would be False and not run):\n",
    "if num_11 > num_12 or num_13 == num_14:\n",
    "    print(\"True and False\")"
   ]
  },
  {
   "cell_type": "markdown",
   "metadata": {},
   "source": [
    "### Elif Statements"
   ]
  },
  {
   "cell_type": "code",
   "execution_count": 78,
   "metadata": {},
   "outputs": [
    {
     "name": "stdout",
     "output_type": "stream",
     "text": [
      "What is your name? Gerald\n",
      "The name is NOT Max\n"
     ]
    }
   ],
   "source": [
    "first_name = input(\"What is your name? \")\n",
    "\n",
    "if first_name == \"Smith\":\n",
    "    print(\"The name is Smith\")\n",
    "elif first_name == \"Brandon\":\n",
    "    print(\"The name is Brandon.\")\n",
    "# *The \"!=\" gets rid of every other name/string besides \"Max\" after it's checked for \"Smith\" & \"Brandon\"\n",
    "# *ORDER matters! If we put \"!= Max\" line above Brandon line, and user put in Brandon, it would return \"not Max\"\n",
    "elif first_name != \"Max\":\n",
    "    print(\"The name is NOT Max\")\n",
    "else:\n",
    "    print(\"The name is Max\")"
   ]
  },
  {
   "cell_type": "markdown",
   "metadata": {},
   "source": [
    "### Else Statements"
   ]
  },
  {
   "cell_type": "code",
   "execution_count": null,
   "metadata": {},
   "outputs": [],
   "source": [
    "# See above!! "
   ]
  },
  {
   "cell_type": "code",
   "execution_count": null,
   "metadata": {},
   "outputs": [],
   "source": [
    "### For Loops\n",
    "# ** For Loops are great if you're doing something over and over and over again **\n",
    "# Syntax (\"for\" and \"in\" are ALWAYS used in EVERY for loop):\n",
    "# for counter in condition"
   ]
  },
  {
   "cell_type": "code",
   "execution_count": 85,
   "metadata": {},
   "outputs": [
    {
     "name": "stdout",
     "output_type": "stream",
     "text": [
      "1\n",
      "2\n",
      "3\n",
      "4\n"
     ]
    }
   ],
   "source": [
    "# name = \"Alex Merkel\"\n",
    "# print(name)\n",
    "\n",
    "# for letter in name: \n",
    "#     print(letter)\n",
    "    \n",
    "# Higher level than right here, but sneak peek:\n",
    "# name = [1, 2, 3, 4, 5]\n",
    "\n",
    "# for letter in name:\n",
    "#     print(letter + 1)\n",
    "\n",
    "# Error due to trying to add int to letter/string:\n",
    "# name = \"Alex Merkel\"\n",
    "\n",
    "# for letter in name:\n",
    "#     print(letter + 1)\n",
    "\n",
    "# More about for loops:\n",
    "name = \"Alex Merkel\"\n",
    "a_list = [1, 2, 3, 4]\n",
    "\n",
    "for i in a_list:\n",
    "    print(i)"
   ]
  },
  {
   "cell_type": "markdown",
   "metadata": {},
   "source": [
    "##### Using 'in' keyword"
   ]
  },
  {
   "cell_type": "code",
   "execution_count": null,
   "metadata": {},
   "outputs": [],
   "source": [
    "# see above\n",
    "# for \"everything\" in a a_list, print \"everything\""
   ]
  },
  {
   "cell_type": "markdown",
   "metadata": {},
   "source": [
    "##### Continue Statement"
   ]
  },
  {
   "cell_type": "code",
   "execution_count": null,
   "metadata": {},
   "outputs": [],
   "source": [
    "# will continue to next iteration"
   ]
  },
  {
   "cell_type": "code",
   "execution_count": 88,
   "metadata": {},
   "outputs": [
    {
     "name": "stdout",
     "output_type": "stream",
     "text": [
      "A\n",
      "l\n",
      "x\n",
      " \n",
      "M\n",
      "r\n",
      "k\n",
      "l\n"
     ]
    }
   ],
   "source": [
    "# for i in range (20):\n",
    "#     print(i)\n",
    "\n",
    "# for i in range (20):\n",
    "#     if i == 5:\n",
    "#         continue\n",
    "#     print(i)\n",
    "\n",
    "name = \"Alex Merkel\"\n",
    "\n",
    "# Gets rid of all lower case \"e\"'s in \"Alex Merkel\" (\"Continue\" sends back to check next letter before printing current one):\n",
    "for i in name:\n",
    "    if i == \"e\":\n",
    "        continue\n",
    "    print(i)"
   ]
  },
  {
   "cell_type": "markdown",
   "metadata": {},
   "source": [
    "##### Break Statement"
   ]
  },
  {
   "cell_type": "code",
   "execution_count": null,
   "metadata": {},
   "outputs": [],
   "source": [
    "# will break out of current loop (*Stops everything*)"
   ]
  },
  {
   "cell_type": "code",
   "execution_count": 89,
   "metadata": {},
   "outputs": [
    {
     "name": "stdout",
     "output_type": "stream",
     "text": [
      "0\n",
      "1\n",
      "2\n",
      "3\n",
      "4\n"
     ]
    }
   ],
   "source": [
    "for i in range(20):\n",
    "    if i == 5:\n",
    "        break\n",
    "    print(i)"
   ]
  },
  {
   "cell_type": "markdown",
   "metadata": {},
   "source": [
    "##### Pass Statement"
   ]
  },
  {
   "cell_type": "code",
   "execution_count": null,
   "metadata": {},
   "outputs": [],
   "source": [
    "# **mostly used as a placeholder, and will continue on same iteration"
   ]
  },
  {
   "cell_type": "code",
   "execution_count": 90,
   "metadata": {},
   "outputs": [],
   "source": [
    "for i in name:\n",
    "    pass\n",
    "# nothing returns"
   ]
  },
  {
   "cell_type": "markdown",
   "metadata": {},
   "source": [
    "##### Double For Loops"
   ]
  },
  {
   "cell_type": "code",
   "execution_count": 91,
   "metadata": {},
   "outputs": [
    {
     "name": "stdout",
     "output_type": "stream",
     "text": [
      "i =  0 j=  0\n",
      "i =  0 j=  1\n",
      "i =  0 j=  2\n",
      "i =  0 j=  3\n",
      "i =  0 j=  4\n",
      "i =  1 j=  0\n",
      "i =  1 j=  1\n",
      "i =  1 j=  2\n",
      "i =  1 j=  3\n",
      "i =  1 j=  4\n",
      "i =  2 j=  0\n",
      "i =  2 j=  1\n",
      "i =  2 j=  2\n",
      "i =  2 j=  3\n",
      "i =  2 j=  4\n",
      "i =  3 j=  0\n",
      "i =  3 j=  1\n",
      "i =  3 j=  2\n",
      "i =  3 j=  3\n",
      "i =  3 j=  4\n",
      "i =  4 j=  0\n",
      "i =  4 j=  1\n",
      "i =  4 j=  2\n",
      "i =  4 j=  3\n",
      "i =  4 j=  4\n"
     ]
    }
   ],
   "source": [
    "# Double loop can slow things down when getting super complicated. Most of time our PC's will be good enough to not slow down\n",
    "# **Be aware this can take up a ton of energy (using electricity to run more lines of code)/ space / time!!**\n",
    "# *Oftentimes programmers aiming for fastest way to do stuff. Usually what we'll do, but not ALWAYS best.*\n",
    "# *Interviews, algorithum studies, going to want SPEED! Double for loops aren't illegal, but likely better route*\n",
    "\n",
    "# This runs 25 times as it's taking each number from 0-4 and printing it out from 0-4:\n",
    "for i in range(5):\n",
    "    for j in range(5):\n",
    "        print(\"i = \", i, \"j= \",j)"
   ]
  },
  {
   "cell_type": "markdown",
   "metadata": {},
   "source": [
    "### While Loops"
   ]
  },
  {
   "cell_type": "code",
   "execution_count": 1,
   "metadata": {},
   "outputs": [
    {
     "name": "stdout",
     "output_type": "stream",
     "text": [
      "0\n",
      "1\n",
      "2\n",
      "3\n",
      "4\n",
      "5\n",
      "6\n",
      "7\n",
      "8\n",
      "9\n"
     ]
    }
   ],
   "source": [
    "# **While Loops will run forever as long as something is true! Not good, will mess up PC! \"control + c\" to stop**\n",
    "# Syntax:\n",
    "# while keyword, condition statement\n",
    "\n",
    "# Example of never ending loop:\n",
    "num = 0\n",
    "\n",
    "while num < 10:\n",
    "    print(num)\n",
    "    \n",
    "# Example of while loop with a backstop to keep it from running forever: \n",
    "num = 0\n",
    "\n",
    "while num < 10:\n",
    "    print(num)\n",
    "    #     *** This is called \"backstop\" or \"counter\" which is putting something in that will stop code from running (see in recursion): ***\n",
    "    num += 1"
   ]
  },
  {
   "cell_type": "markdown",
   "metadata": {},
   "source": [
    "##### Looping 'While True'"
   ]
  },
  {
   "cell_type": "code",
   "execution_count": 5,
   "metadata": {},
   "outputs": [
    {
     "name": "stdout",
     "output_type": "stream",
     "text": [
      "Infinite Loop\n",
      "Would you like to stop?no\n",
      "Infinite Loop\n",
      "Would you like to stop?no\n",
      "Infinite Loop\n",
      "Would you like to stop?no\n",
      "Infinite Loop\n",
      "Would you like to stop?yes\n",
      "Infinite Loop\n",
      "Would you like to stop?Yes\n"
     ]
    }
   ],
   "source": [
    "# **Bad practice** Not \"illegal\" but probably won't go well during an interview, etc. **\n",
    "# This is our flag (until something in the while loop changes this flag/variable): \n",
    "# game_over = False\n",
    "# *REALLY important to have flag prior to any \"True Loops\" *\n",
    "# while True:\n",
    "#     print(\"Infinite Loop\")\n",
    "#     If we didn't have below, this would be an infinite loop!:\n",
    "#     if game_over == False:\n",
    "#         break\n",
    "    \n",
    "\n",
    "# *Better way to do above:\n",
    "# game_over = True\n",
    "\n",
    "# while game_over:\n",
    "#     print(\"Infinite Loop\")\n",
    "#     if game_over == True:\n",
    "#         break\n",
    "# (Only prints \"Infinite Loop\" one time)\n",
    "\n",
    "\n",
    "# *Example for if you were playing a game:\n",
    "game_over = True\n",
    "\n",
    "while game_over:\n",
    "    print(\"Infinite Loop\")\n",
    "#     ** Also nice as \"input\" will stop wait on User and you know you won't have infinite loop **\n",
    "    user_input = input(\"Would you like to stop?\")\n",
    "    if user_input == \"Yes\":\n",
    "        game_over = False\n",
    "        \n",
    "# ** While loops can be kind of dangerous, not very specific. Be careful!**"
   ]
  },
  {
   "cell_type": "markdown",
   "metadata": {},
   "source": [
    "##### While & For Loops Used Together"
   ]
  },
  {
   "cell_type": "code",
   "execution_count": 7,
   "metadata": {},
   "outputs": [
    {
     "name": "stdout",
     "output_type": "stream",
     "text": [
      "\n",
      "While loop iteration: 0\n",
      "For loop iteration 0\n",
      "For loop iteration 1\n",
      "\n",
      "While loop iteration: 1\n",
      "For loop iteration 0\n",
      "For loop iteration 1\n",
      "\n",
      "While loop iteration: 2\n",
      "For loop iteration 0\n",
      "For loop iteration 1\n",
      "\n",
      "While loop iteration: 3\n",
      "For loop iteration 0\n",
      "For loop iteration 1\n",
      "\n",
      "While loop iteration: 4\n",
      "For loop iteration 0\n",
      "For loop iteration 1\n"
     ]
    }
   ],
   "source": [
    "# **Outside variable aka \"global variable\" can be accessed from anywhere (if you write variable INSIDE loop, it can break code if you try to call it someplace else)\n",
    "num = 0\n",
    "\n",
    "while num < 5:\n",
    "    print(\"\\nWhile loop iteration: \" + str(num))\n",
    "    \n",
    "    for i in range(2):\n",
    "        print(\"For loop iteration \" + str(i))\n",
    "#     Backstop (make sure there is a way to get to it):     \n",
    "    num += 1\n"
   ]
  },
  {
   "cell_type": "markdown",
   "metadata": {},
   "source": [
    "### Built-In Functions"
   ]
  },
  {
   "cell_type": "markdown",
   "metadata": {},
   "source": [
    "##### range()"
   ]
  },
  {
   "cell_type": "code",
   "execution_count": 11,
   "metadata": {},
   "outputs": [
    {
     "name": "stdout",
     "output_type": "stream",
     "text": [
      "2\n",
      "4\n",
      "6\n",
      "8\n",
      "10\n",
      "12\n",
      "14\n",
      "16\n",
      "18\n"
     ]
    }
   ],
   "source": [
    "# **VERY IMPORTANT: Built-in functions are important. Want to know as many as possible to get more efficient as a coder **\n",
    "# *Review these and other Python notes for 10 mins a day as we go to remember more functions / get more efficent overall *\n",
    "\n",
    "# **Range() Notes:\n",
    "# range(Start, stop, step)\n",
    "\n",
    "# Starts at 0 and goes to 19:\n",
    "# for i in range(20):\n",
    "#     print(i)\n",
    "\n",
    "# *Starts at 2* and goes to 19:\n",
    "# for i in range(2, 20):\n",
    "#     print(i)\n",
    "    \n",
    "# Starts at 2, *counts by 2*, and the last number it checks is 19, which isn't by 2, so last number it prints is 18\n",
    "for i in range(2, 20, 2):\n",
    "    print(i)"
   ]
  },
  {
   "cell_type": "markdown",
   "metadata": {},
   "source": [
    "##### len()"
   ]
  },
  {
   "cell_type": "code",
   "execution_count": 12,
   "metadata": {},
   "outputs": [
    {
     "name": "stdout",
     "output_type": "stream",
     "text": [
      "Give me the name of your favorite book: Lord of the Rings\n",
      "17\n"
     ]
    }
   ],
   "source": [
    "name = input(\"Give me the name of your favorite book: \")\n",
    "\n",
    "# This counts the length of code we got back for our user input above:\n",
    "length = len(name)\n",
    "print(length)"
   ]
  },
  {
   "cell_type": "markdown",
   "metadata": {},
   "source": [
    "##### help()"
   ]
  },
  {
   "cell_type": "code",
   "execution_count": 14,
   "metadata": {},
   "outputs": [
    {
     "name": "stdout",
     "output_type": "stream",
     "text": [
      "Help on built-in function len in module builtins:\n",
      "\n",
      "len(obj, /)\n",
      "    Return the number of items in a container.\n",
      "\n"
     ]
    }
   ],
   "source": [
    "# Use this function to view more info about a python function\n",
    "# ***This seems like it could be very helpful, especially when working with other languages and need to see what something does***\n",
    "# help(range)\n",
    "\n",
    "# Checking what simpler (len) does compared to more complex (range):\n",
    "help(len)"
   ]
  },
  {
   "cell_type": "markdown",
   "metadata": {},
   "source": [
    "##### isinstance()"
   ]
  },
  {
   "cell_type": "code",
   "execution_count": 22,
   "metadata": {},
   "outputs": [
    {
     "name": "stdout",
     "output_type": "stream",
     "text": [
      "4 is an int\n"
     ]
    }
   ],
   "source": [
    "# ** isinstance is \"check if everything is THIS\" or \"how do I filter out everything that is not THIS\"\n",
    "# Check a variable to find out what object family (or data type) it belongs to\n",
    "# Syntax:\n",
    "# isinstance(var,type)\n",
    "\n",
    "\n",
    "# *Actual isinstance:\n",
    "# print(isinstance (4.5, int))\n",
    "# Returns: False as 4.5 is a float and not an int\n",
    "\n",
    "# *Registers are returning True and it prints out \"This number is a float type:\"\n",
    "# if isinstance(4.5, float):\n",
    "#     print(\"This number is a float type\")\n",
    "\n",
    "# *Tells user whether or not a variable is a float or an int:\n",
    "num = 4\n",
    "\n",
    "if isinstance (num, int):\n",
    "    print(f\"{num} is an int\")\n",
    "else:\n",
    "    print(f\"{num} is a float\")\n",
    "    "
   ]
  },
  {
   "cell_type": "markdown",
   "metadata": {},
   "source": [
    "##### abs()"
   ]
  },
  {
   "cell_type": "code",
   "execution_count": 23,
   "metadata": {},
   "outputs": [
    {
     "name": "stdout",
     "output_type": "stream",
     "text": [
      "5\n"
     ]
    }
   ],
   "source": [
    "# **Absolute value: ((-5) = 5), tells you distance from 0**\n",
    "\n",
    "print(abs(-5))\n"
   ]
  },
  {
   "cell_type": "markdown",
   "metadata": {},
   "source": [
    "### Try and Except"
   ]
  },
  {
   "cell_type": "code",
   "execution_count": 29,
   "metadata": {},
   "outputs": [
    {
     "name": "stdout",
     "output_type": "stream",
     "text": [
      "Guess a number 4.5\n",
      "That didn't work! Change your input to a number!\n"
     ]
    }
   ],
   "source": [
    "# **Really useful, especially for more complex code or a lot of user input ** Stops errors, see below\n",
    "# *An example of how this helps and where to use it: Asking for user input, input is int, we can reask but say we need string*\n",
    "# *Use this to log out graceful and useful error message\n",
    "# *Doesn't stop the program\n",
    "\n",
    "\n",
    "# *See if input is an int or not. Anything besides int, goes to except and tells user for an int:\n",
    "try:\n",
    "    input_num = int(input(\"Guess a number \"))\n",
    "    print(\"Your number is \" + str(input_num))\n",
    "except:\n",
    "    print(\"That didn't work! Change your input to a whole number!\")\n",
    "    \n",
    "# *Example of error that Try and Except can help us avoid:\n",
    "input_num = int(input(\"Guess a number \"))\n",
    "print(\"Your number is \" + str(input_num))\n"
   ]
  },
  {
   "cell_type": "markdown",
   "metadata": {},
   "source": [
    "### Lists"
   ]
  },
  {
   "cell_type": "markdown",
   "metadata": {},
   "source": [
    "##### Declaring Lists"
   ]
  },
  {
   "cell_type": "code",
   "execution_count": 30,
   "metadata": {},
   "outputs": [
    {
     "name": "stdout",
     "output_type": "stream",
     "text": [
      "['Max', 'Cindy', 'Kathy', 'Bob', 'Nate']\n"
     ]
    }
   ],
   "source": [
    "# **Think of an empty list \"[]\" as an empty box (Sorting apples and oranges in same box to another/different box**\n",
    "list_1 = []\n",
    "\n",
    "names = [\"Max\", \"Cindy\", \"Kathy\", \"Bob\", \"Nate\"]\n",
    "# This checks to see if names is a list:\n",
    "print(isinstance(names, list))\n",
    "# Will return \"True\" as names is indeed a list\n",
    "\n",
    "# This will return the list of names in list form \"[each name]:\" \n",
    "print(names)\n"
   ]
  },
  {
   "cell_type": "markdown",
   "metadata": {},
   "source": [
    "##### Indexing a List"
   ]
  },
  {
   "cell_type": "code",
   "execution_count": 32,
   "metadata": {},
   "outputs": [
    {
     "name": "stdout",
     "output_type": "stream",
     "text": [
      "Max\n",
      "['Cindy', 'Kathy', 'Bob', 'Nate']\n"
     ]
    }
   ],
   "source": [
    "# ***Pick specific things out of a list:** Good stuff to know, pay attention**COME BACK TO THIS, WANT TO KNOW IT WELL**\n",
    "# *list_name[start:stop:step]\n",
    "\n",
    "# *Single index:\n",
    "print(names[0])\n",
    "\n",
    "# *Print starting at index 1, going to the end (Prints it in list format minus Max):\n",
    "print(names[1:])\n",
    "\n",
    "# *Print starting at the beginning of a list up until a number (only prints Bob & Nate, doesn't include #2, Kathy):\n",
    "print(names[:2])\n",
    "\n",
    "# *Print starting at index 0 and going up by 2 in each iteration(starting at beginning, going through whole list by 2):\n",
    "print(names[::2])\n",
    "\n",
    "# *Print starting at index 1 and going up by 2 in each iteration(started at index 1, going through rest of list list by 2):\n",
    "print(names[1::2])\n",
    "\n",
    "# *Print starting at the end of list and displaying in reverse order:\n",
    "print(names[::-1])"
   ]
  },
  {
   "cell_type": "markdown",
   "metadata": {},
   "source": [
    "##### .append()"
   ]
  },
  {
   "cell_type": "code",
   "execution_count": 46,
   "metadata": {},
   "outputs": [
    {
     "name": "stdout",
     "output_type": "stream",
     "text": [
      "['Max', 'Cindy', 'Kathy', 'Devon', 'Bob', 'Nate', 'Brandon', 'Brandon']\n"
     ]
    }
   ],
   "source": [
    "# Takes \"Brandon\" and puts it in the list names at the end of the lsit:\n",
    "names.append(\"Brandon\")\n",
    "print(names)"
   ]
  },
  {
   "cell_type": "markdown",
   "metadata": {},
   "source": [
    "##### .insert()"
   ]
  },
  {
   "cell_type": "code",
   "execution_count": 47,
   "metadata": {},
   "outputs": [
    {
     "name": "stdout",
     "output_type": "stream",
     "text": [
      "['Max', 'Cindy', 'Kathy', 'Devon', 'Devon', 'Bob', 'Nate', 'Brandon', 'Brandon']\n"
     ]
    }
   ],
   "source": [
    "# Takes \"Devon\" and puts into the list at a specific position \"3\":\n",
    "names.insert(3, \"Devon\")\n",
    "print(names)"
   ]
  },
  {
   "cell_type": "markdown",
   "metadata": {},
   "source": [
    "##### .pop()"
   ]
  },
  {
   "cell_type": "code",
   "execution_count": 39,
   "metadata": {},
   "outputs": [
    {
     "name": "stdout",
     "output_type": "stream",
     "text": [
      "Brandon\n",
      "['Max', 'Cindy']\n"
     ]
    }
   ],
   "source": [
    "# ***Pop returns the element that was removed in case you want to assign it to a variable***\n",
    "# **Defaults to last value if no parameter is given**\n",
    "\n",
    "# **Takes name in index position 2 and removes it from the list, then returns it when printed (can repeatedly run until list is emptly) \n",
    "my_name = names.pop(2)\n",
    "print(my_name)\n",
    "print(names)"
   ]
  },
  {
   "cell_type": "markdown",
   "metadata": {},
   "source": [
    "##### .remove()"
   ]
  },
  {
   "cell_type": "code",
   "execution_count": 49,
   "metadata": {},
   "outputs": [
    {
     "name": "stdout",
     "output_type": "stream",
     "text": [
      "['Max', 'Cindy', 'Kathy', 'Devon', 'Devon', 'Bob', 'Nate']\n"
     ]
    }
   ],
   "source": [
    "# Value to be removed instead of the index number\n",
    "\n",
    "# *Takes Bob out of the list (will only remove bob, if you run again you will get error since bob is already gone):\n",
    "# names.remove(\"bob\")\n",
    "# print(names)\n",
    "\n",
    "# *Remove multiple Brandons from list (Takes all repeated value out of list at the same time):\n",
    "while \"Brandon\" in names:\n",
    "    names.remove(\"Brandon\")\n",
    "print(names)\n"
   ]
  },
  {
   "cell_type": "markdown",
   "metadata": {},
   "source": [
    "##### del()"
   ]
  },
  {
   "cell_type": "code",
   "execution_count": 50,
   "metadata": {},
   "outputs": [
    {
     "name": "stdout",
     "output_type": "stream",
     "text": [
      "['Max', 'Kathy', 'Devon', 'Devon', 'Bob', 'Nate']\n"
     ]
    }
   ],
   "source": [
    "# **Goes by Index, rather than value**\n",
    "# **Be careful with it, it can cause indexing errors if not used carefully (if not setup right, can deleat a lot of code)**\n",
    "\n",
    "# Got rid of person at index position 1. Didn't return value of Cindy\n",
    "del(names[1])\n",
    "print(names)\n"
   ]
  },
  {
   "cell_type": "markdown",
   "metadata": {},
   "source": [
    "##### Concatenating Two Lists"
   ]
  },
  {
   "cell_type": "code",
   "execution_count": 54,
   "metadata": {},
   "outputs": [
    {
     "name": "stdout",
     "output_type": "stream",
     "text": [
      "[0, 1, 2, 3, 4, 5]\n"
     ]
    }
   ],
   "source": [
    "# **This will append two lists together, will NOT add the values!!**\n",
    "\n",
    "list_2 = [0, 1, 2]\n",
    "list_3 = [3, 4, 5]\n",
    "\n",
    "large_list = list_2 + list_3\n",
    "print(large_list)"
   ]
  },
  {
   "cell_type": "markdown",
   "metadata": {},
   "source": [
    "##### Lists Within Lists"
   ]
  },
  {
   "cell_type": "code",
   "execution_count": null,
   "metadata": {},
   "outputs": [],
   "source": [
    "# **Lists can hold ANY type of other element / data type! Inlcluding other lists!**\n",
    "# **They can go as deep as you want; this is called nested lists**\n",
    "\n",
    "names = [\"Max\", \"sam\", \"Josh\", [\"Sally\", [\"Sue\", \"Jim\"], \"Tameka\"]]\n",
    "# *Prints the whole list in list form\n",
    "print(names)\n",
    "# *Prints the smaller list [\"Sally\", \"Sue\", \"Tameka\" as it was in index position 3]:\n",
    "print(names[3])\n",
    "# *Want to return just one name (Sally) of the FIRST nested list:\n",
    "print(names[3][0])\n",
    "# Want to return just one name (Sue) of the SECOND nested list (Can also do this as deep as you'd like to go(list with in list)):\n",
    "print(names[3][1][0])\n"
   ]
  },
  {
   "cell_type": "markdown",
   "metadata": {},
   "source": [
    "##### Looping Through Lists"
   ]
  },
  {
   "cell_type": "code",
   "execution_count": 57,
   "metadata": {},
   "outputs": [
    {
     "name": "stdout",
     "output_type": "stream",
     "text": [
      "4\n",
      "Max\n",
      "sam\n",
      "Josh\n",
      "['Sally', 'Sue', 'Tameka']\n",
      "Max\n",
      "sam\n",
      "Josh\n",
      "['Sally', 'Sue', 'Tameka']\n"
     ]
    }
   ],
   "source": [
    "# ***Two ways to loop through a list! One is by index; the other is by using the \"in\" keyword***\n",
    "\n",
    "# *First one (by index):\n",
    "# Will result in 4 as there are 4 items in the main list\n",
    "print(len(names))\n",
    "\n",
    "# *Prints each of the main list items off (final print is the nested list in list form):\n",
    "for i in range(len(names)):\n",
    "    print(names[i])\n",
    "    \n",
    "\n",
    "# **Looping with \"in\" (Prints the same way as above):\n",
    "for i in names:\n",
    "    print(i)"
   ]
  },
  {
   "cell_type": "markdown",
   "metadata": {},
   "source": [
    "## Exercise #1 <br>\n",
    "<p>Cube Number Test... Print out all cubed numbers up to the total value 1000. Meaning that if the cubed number is over 1000 break the loop.</p>"
   ]
  },
  {
   "cell_type": "code",
   "execution_count": 8,
   "metadata": {},
   "outputs": [
    {
     "name": "stdout",
     "output_type": "stream",
     "text": [
      "1\n",
      "8\n",
      "27\n",
      "64\n",
      "125\n",
      "216\n",
      "343\n",
      "512\n",
      "729\n",
      "1000\n"
     ]
    }
   ],
   "source": [
    "cube = [num**3 for num in range(1,100)]\n",
    "\n",
    "for i in cube:\n",
    "    if i <= 1000:\n",
    "        print(i)\n",
    "    else: \n",
    "        break\n",
    "\n"
   ]
  },
  {
   "cell_type": "markdown",
   "metadata": {},
   "source": [
    "## Exercise #2 <br>\n",
    "<p>Get first prime numbers up to 100</p>"
   ]
  },
  {
   "cell_type": "code",
   "execution_count": 4,
   "metadata": {},
   "outputs": [
    {
     "name": "stdout",
     "output_type": "stream",
     "text": [
      "2\n",
      "3\n",
      "5\n",
      "7\n",
      "11\n",
      "13\n",
      "17\n",
      "19\n",
      "23\n",
      "29\n",
      "31\n",
      "37\n",
      "41\n",
      "43\n",
      "47\n",
      "53\n",
      "59\n",
      "61\n",
      "67\n",
      "71\n",
      "73\n",
      "79\n",
      "83\n",
      "89\n",
      "97\n"
     ]
    }
   ],
   "source": [
    "# HINT::\n",
    "# An else after an if runs if the if didn’t\n",
    "# An else after a for runs if the for didn’t break    \n",
    "    \n",
    "for num in range (1, 101):\n",
    "    a = 0\n",
    "    for i in range (2, (num // 2 +1)):\n",
    "        if num % i == 0:      \n",
    "            a = a + 1\n",
    "            break\n",
    "    if a == 0 and num != 1:\n",
    "        print(num)\n",
    "        "
   ]
  },
  {
   "cell_type": "markdown",
   "metadata": {},
   "source": [
    "# Exercise 3 <br>\n",
    "<p>Take in a users input for their age, if they are younger than 18 print kids, if they're 18 to 65 print adults, else print seniors</p>"
   ]
  },
  {
   "cell_type": "code",
   "execution_count": 6,
   "metadata": {},
   "outputs": [
    {
     "name": "stdout",
     "output_type": "stream",
     "text": [
      "What is your age? 7\n",
      "Kids\n"
     ]
    }
   ],
   "source": [
    "age = int(input(\"What is your age? \"))\n",
    "\n",
    "if age < 18:\n",
    "    print(\"Kids\")\n",
    "elif age >= 18 and age <= 65:\n",
    "    print(\"Adults\")\n",
    "else:\n",
    "    print(\"Seniors\")"
   ]
  },
  {
   "cell_type": "code",
   "execution_count": null,
   "metadata": {},
   "outputs": [],
   "source": []
  }
 ],
 "metadata": {
  "kernelspec": {
   "display_name": "Python 3 (ipykernel)",
   "language": "python",
   "name": "python3"
  },
  "language_info": {
   "codemirror_mode": {
    "name": "ipython",
    "version": 3
   },
   "file_extension": ".py",
   "mimetype": "text/x-python",
   "name": "python",
   "nbconvert_exporter": "python",
   "pygments_lexer": "ipython3",
   "version": "3.9.13"
  }
 },
 "nbformat": 4,
 "nbformat_minor": 2
}
